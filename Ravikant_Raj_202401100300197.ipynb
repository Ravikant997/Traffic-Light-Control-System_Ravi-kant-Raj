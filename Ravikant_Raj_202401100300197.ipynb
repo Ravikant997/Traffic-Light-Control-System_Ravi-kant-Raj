{
  "nbformat": 4,
  "nbformat_minor": 0,
  "metadata": {
    "colab": {
      "provenance": []
    },
    "kernelspec": {
      "name": "python3",
      "display_name": "Python 3"
    },
    "language_info": {
      "name": "python"
    }
  },
  "cells": [
    {
      "cell_type": "code",
      "source": [
        "import time\n",
        "\n",
        "def traffic_light():\n",
        "    while True:\n",
        "        # Green Light\n",
        "        print(\"\\n🟢 GREEN LIGHT - GO 🚗💨\")\n",
        "        time.sleep(5)  # Wait for 5 seconds\n",
        "\n",
        "        # Yellow Light\n",
        "        print(\"\\n🟡 YELLOW LIGHT - SLOW DOWN ⚠️\")\n",
        "        time.sleep(2)  # Wait for 2 seconds\n",
        "\n",
        "        # Red Light\n",
        "        print(\"\\n🔴 RED LIGHT - STOP ⛔\")\n",
        "        time.sleep(5)  # Wait for 5 seconds\n",
        "\n",
        "if __name__ == \"__main__\":\n",
        "    print(\"Starting Traffic Light Control System...\\n\")\n",
        "    traffic_light()  # Run the traffic light function"
      ],
      "metadata": {
        "colab": {
          "base_uri": "https://localhost:8080/",
          "height": 563
        },
        "id": "BETL_RPTjMXF",
        "outputId": "d1364e00-d3e9-481b-dd23-e7caf4e9da46"
      },
      "execution_count": 15,
      "outputs": [
        {
          "output_type": "stream",
          "name": "stdout",
          "text": [
            "Starting Traffic Light Control System...\n",
            "\n",
            "\n",
            "🟢 GREEN LIGHT - GO 🚗💨\n",
            "\n",
            "🟡 YELLOW LIGHT - SLOW DOWN ⚠️\n",
            "\n",
            "🔴 RED LIGHT - STOP ⛔\n",
            "\n",
            "🟢 GREEN LIGHT - GO 🚗💨\n",
            "\n",
            "🟡 YELLOW LIGHT - SLOW DOWN ⚠️\n",
            "\n",
            "🔴 RED LIGHT - STOP ⛔\n"
          ]
        },
        {
          "output_type": "error",
          "ename": "KeyboardInterrupt",
          "evalue": "",
          "traceback": [
            "\u001b[0;31m---------------------------------------------------------------------------\u001b[0m",
            "\u001b[0;31mKeyboardInterrupt\u001b[0m                         Traceback (most recent call last)",
            "\u001b[0;32m<ipython-input-15-2484bf9ea6e9>\u001b[0m in \u001b[0;36m<cell line: 0>\u001b[0;34m()\u001b[0m\n\u001b[1;32m     17\u001b[0m \u001b[0;32mif\u001b[0m \u001b[0m__name__\u001b[0m \u001b[0;34m==\u001b[0m \u001b[0;34m\"__main__\"\u001b[0m\u001b[0;34m:\u001b[0m\u001b[0;34m\u001b[0m\u001b[0;34m\u001b[0m\u001b[0m\n\u001b[1;32m     18\u001b[0m     \u001b[0mprint\u001b[0m\u001b[0;34m(\u001b[0m\u001b[0;34m\"Starting Traffic Light Control System...\\n\"\u001b[0m\u001b[0;34m)\u001b[0m\u001b[0;34m\u001b[0m\u001b[0;34m\u001b[0m\u001b[0m\n\u001b[0;32m---> 19\u001b[0;31m     \u001b[0mtraffic_light\u001b[0m\u001b[0;34m(\u001b[0m\u001b[0;34m)\u001b[0m  \u001b[0;31m# Run the traffic light function\u001b[0m\u001b[0;34m\u001b[0m\u001b[0;34m\u001b[0m\u001b[0m\n\u001b[0m",
            "\u001b[0;32m<ipython-input-15-2484bf9ea6e9>\u001b[0m in \u001b[0;36mtraffic_light\u001b[0;34m()\u001b[0m\n\u001b[1;32m     13\u001b[0m         \u001b[0;31m# Red Light\u001b[0m\u001b[0;34m\u001b[0m\u001b[0;34m\u001b[0m\u001b[0m\n\u001b[1;32m     14\u001b[0m         \u001b[0mprint\u001b[0m\u001b[0;34m(\u001b[0m\u001b[0;34m\"\\n🔴 RED LIGHT - STOP ⛔\"\u001b[0m\u001b[0;34m)\u001b[0m\u001b[0;34m\u001b[0m\u001b[0;34m\u001b[0m\u001b[0m\n\u001b[0;32m---> 15\u001b[0;31m         \u001b[0mtime\u001b[0m\u001b[0;34m.\u001b[0m\u001b[0msleep\u001b[0m\u001b[0;34m(\u001b[0m\u001b[0;36m5\u001b[0m\u001b[0;34m)\u001b[0m  \u001b[0;31m# Wait for 5 seconds\u001b[0m\u001b[0;34m\u001b[0m\u001b[0;34m\u001b[0m\u001b[0m\n\u001b[0m\u001b[1;32m     16\u001b[0m \u001b[0;34m\u001b[0m\u001b[0m\n\u001b[1;32m     17\u001b[0m \u001b[0;32mif\u001b[0m \u001b[0m__name__\u001b[0m \u001b[0;34m==\u001b[0m \u001b[0;34m\"__main__\"\u001b[0m\u001b[0;34m:\u001b[0m\u001b[0;34m\u001b[0m\u001b[0;34m\u001b[0m\u001b[0m\n",
            "\u001b[0;31mKeyboardInterrupt\u001b[0m: "
          ]
        }
      ]
    }
  ]
}